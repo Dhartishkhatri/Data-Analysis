{
  "nbformat": 4,
  "nbformat_minor": 0,
  "metadata": {
    "kernelspec": {
      "display_name": "Python 3",
      "language": "python",
      "name": "python3"
    },
    "language_info": {
      "codemirror_mode": {
        "name": "ipython",
        "version": 3
      },
      "file_extension": ".py",
      "mimetype": "text/x-python",
      "name": "python",
      "nbconvert_exporter": "python",
      "pygments_lexer": "ipython3",
      "version": "3.7.3"
    },
    "colab": {
      "name": " (Python notebook)Prescriptive Analysis for Delhi Air Quality",
      "provenance": [],
      "collapsed_sections": [
        "Ry2Jw-YV9Ykd",
        "dk-WXT0QmvQ1",
        "DbhdjHnRG2eB",
        "Tytbc6CdG2eN",
        "1HrATpN9G2eZ",
        "-2oOFicNG2et",
        "98p6AX0N9L6-",
        "htc3-MzEtWuf",
        "qXsxAOraG2hp"
      ]
    }
  },
  "cells": [
    {
      "cell_type": "markdown",
      "metadata": {
        "id": "-X7GPTBZG2dt"
      },
      "source": [
        "# **Prescriptive Analysis for Delhi Air Quality.**"
      ]
    },
    {
      "cell_type": "markdown",
      "metadata": {
        "id": "Ry2Jw-YV9Ykd"
      },
      "source": [
        "# Importing necessary libraries & data.\n",
        "\n",
        "\n",
        "\n"
      ]
    },
    {
      "cell_type": "code",
      "metadata": {
        "id": "KraFJ6hujaxS",
        "colab": {
          "base_uri": "https://localhost:8080/"
        },
        "outputId": "f65d701a-88bc-4965-9282-78e400d809ec"
      },
      "source": [
        "pip install sorted_months_weekdays"
      ],
      "execution_count": null,
      "outputs": [
        {
          "output_type": "stream",
          "text": [
            "Collecting sorted_months_weekdays\n",
            "  Downloading https://files.pythonhosted.org/packages/8a/96/885ab16f3653bcf7a035b9dcf0089f2b5e26a2af76573fc458dcb51758fe/sorted_months_weekdays-0.2.tar.gz\n",
            "Building wheels for collected packages: sorted-months-weekdays\n",
            "  Building wheel for sorted-months-weekdays (setup.py) ... \u001b[?25l\u001b[?25hdone\n",
            "  Created wheel for sorted-months-weekdays: filename=sorted_months_weekdays-0.2-cp36-none-any.whl size=3240 sha256=65193f3f880a28b81f44d27888ff56409a246428cd290035b670e9590b575cc6\n",
            "  Stored in directory: /root/.cache/pip/wheels/11/2f/19/05e3f8e6a6d06a2e962f0a172bc9736451f6518e2db6d1ab6d\n",
            "Successfully built sorted-months-weekdays\n",
            "Installing collected packages: sorted-months-weekdays\n",
            "Successfully installed sorted-months-weekdays-0.2\n"
          ],
          "name": "stdout"
        }
      ]
    },
    {
      "cell_type": "code",
      "metadata": {
        "id": "kaRoHs9Cjfv6",
        "colab": {
          "base_uri": "https://localhost:8080/"
        },
        "outputId": "574a05d2-9eb5-49b5-f214-d1a16fb7e0d4"
      },
      "source": [
        "pip install sort_dataframeby_monthorweek"
      ],
      "execution_count": null,
      "outputs": [
        {
          "output_type": "stream",
          "text": [
            "Collecting sort_dataframeby_monthorweek\n",
            "  Downloading https://files.pythonhosted.org/packages/7a/10/f5005db1735c3917c39bb29b2196aecee60d78a63663a107b8ac91c14c69/sort_dataframeby_monthorweek-0.4.tar.gz\n",
            "Building wheels for collected packages: sort-dataframeby-monthorweek\n",
            "  Building wheel for sort-dataframeby-monthorweek (setup.py) ... \u001b[?25l\u001b[?25hdone\n",
            "  Created wheel for sort-dataframeby-monthorweek: filename=sort_dataframeby_monthorweek-0.4-cp36-none-any.whl size=3438 sha256=5d19ad5614c19aa40a1aafe129c3938149642e2f0fff8c7bc6d7fed9f0374f53\n",
            "  Stored in directory: /root/.cache/pip/wheels/4c/35/02/083a8cdd13de15416e153a50324450c15189d259c861f9f964\n",
            "Successfully built sort-dataframeby-monthorweek\n",
            "Installing collected packages: sort-dataframeby-monthorweek\n",
            "Successfully installed sort-dataframeby-monthorweek-0.4\n"
          ],
          "name": "stdout"
        }
      ]
    },
    {
      "cell_type": "code",
      "metadata": {
        "id": "5unVAUhtG2dv"
      },
      "source": [
        "import numpy as np\n",
        "import pandas as pd\n",
        "import matplotlib.pyplot as plt\n",
        "import seaborn as sns\n",
        "from datetime import datetime\n",
        "from sorted_months_weekdays import *\n",
        "from sort_dataframeby_monthorweek import *\n",
        "from sklearn.preprocessing import Normalizer"
      ],
      "execution_count": null,
      "outputs": []
    },
    {
      "cell_type": "code",
      "metadata": {
        "colab": {
          "base_uri": "https://localhost:8080/"
        },
        "id": "f5wP27pMJ6Md",
        "outputId": "ce938dcb-db79-4fe9-ffda-59fb1dfb5aa3"
      },
      "source": [
        "from google.colab import drive\n",
        "drive.mount('/content/drive')"
      ],
      "execution_count": null,
      "outputs": [
        {
          "output_type": "stream",
          "text": [
            "Mounted at /content/drive\n"
          ],
          "name": "stdout"
        }
      ]
    },
    {
      "cell_type": "code",
      "metadata": {
        "id": "gxcg8_SpG2d2",
        "colab": {
          "base_uri": "https://localhost:8080/"
        },
        "outputId": "153bdde7-0a4c-4b18-a445-ff2f7792d321"
      },
      "source": [
        "data=pd.read_csv(\"/content/drive/My Drive/Datasets/Delhi_air_quality_project/data.csv\")\n",
        "data.head()"
      ],
      "execution_count": null,
      "outputs": [
        {
          "output_type": "execute_result",
          "data": {
            "text/html": [
              "<div>\n",
              "<style scoped>\n",
              "    .dataframe tbody tr th:only-of-type {\n",
              "        vertical-align: middle;\n",
              "    }\n",
              "\n",
              "    .dataframe tbody tr th {\n",
              "        vertical-align: top;\n",
              "    }\n",
              "\n",
              "    .dataframe thead th {\n",
              "        text-align: right;\n",
              "    }\n",
              "</style>\n",
              "<table border=\"1\" class=\"dataframe\">\n",
              "  <thead>\n",
              "    <tr style=\"text-align: right;\">\n",
              "      <th></th>\n",
              "      <th>Stn Code</th>\n",
              "      <th>Sampling Date</th>\n",
              "      <th>State</th>\n",
              "      <th>City/Town/Village/Area</th>\n",
              "      <th>Location of Monitoring Station</th>\n",
              "      <th>Agency</th>\n",
              "      <th>Type of Location</th>\n",
              "      <th>SO2</th>\n",
              "      <th>NO2</th>\n",
              "      <th>RSPM/PM10</th>\n",
              "      <th>PM 2.5</th>\n",
              "    </tr>\n",
              "  </thead>\n",
              "  <tbody>\n",
              "    <tr>\n",
              "      <th>0</th>\n",
              "      <td>55</td>\n",
              "      <td>05-01-15</td>\n",
              "      <td>Delhi</td>\n",
              "      <td>Delhi</td>\n",
              "      <td>Nizamuddin, Delhi</td>\n",
              "      <td>Central Pollution Control Board</td>\n",
              "      <td>Residential, Rural and other Areas</td>\n",
              "      <td>4.0</td>\n",
              "      <td>44.0</td>\n",
              "      <td>203.0</td>\n",
              "      <td>NaN</td>\n",
              "    </tr>\n",
              "    <tr>\n",
              "      <th>1</th>\n",
              "      <td>55</td>\n",
              "      <td>08-01-15</td>\n",
              "      <td>Delhi</td>\n",
              "      <td>Delhi</td>\n",
              "      <td>Nizamuddin, Delhi</td>\n",
              "      <td>Central Pollution Control Board</td>\n",
              "      <td>Residential, Rural and other Areas</td>\n",
              "      <td>4.0</td>\n",
              "      <td>45.0</td>\n",
              "      <td>214.0</td>\n",
              "      <td>NaN</td>\n",
              "    </tr>\n",
              "    <tr>\n",
              "      <th>2</th>\n",
              "      <td>55</td>\n",
              "      <td>13-01-15</td>\n",
              "      <td>Delhi</td>\n",
              "      <td>Delhi</td>\n",
              "      <td>Nizamuddin, Delhi</td>\n",
              "      <td>Central Pollution Control Board</td>\n",
              "      <td>Residential, Rural and other Areas</td>\n",
              "      <td>4.0</td>\n",
              "      <td>47.0</td>\n",
              "      <td>182.0</td>\n",
              "      <td>NaN</td>\n",
              "    </tr>\n",
              "    <tr>\n",
              "      <th>3</th>\n",
              "      <td>55</td>\n",
              "      <td>16-01-15</td>\n",
              "      <td>Delhi</td>\n",
              "      <td>Delhi</td>\n",
              "      <td>Nizamuddin, Delhi</td>\n",
              "      <td>Central Pollution Control Board</td>\n",
              "      <td>Residential, Rural and other Areas</td>\n",
              "      <td>4.0</td>\n",
              "      <td>43.0</td>\n",
              "      <td>204.0</td>\n",
              "      <td>78.0</td>\n",
              "    </tr>\n",
              "    <tr>\n",
              "      <th>4</th>\n",
              "      <td>55</td>\n",
              "      <td>21-01-15</td>\n",
              "      <td>Delhi</td>\n",
              "      <td>Delhi</td>\n",
              "      <td>Nizamuddin, Delhi</td>\n",
              "      <td>Central Pollution Control Board</td>\n",
              "      <td>Residential, Rural and other Areas</td>\n",
              "      <td>4.0</td>\n",
              "      <td>39.0</td>\n",
              "      <td>192.0</td>\n",
              "      <td>83.0</td>\n",
              "    </tr>\n",
              "  </tbody>\n",
              "</table>\n",
              "</div>"
            ],
            "text/plain": [
              "   Stn Code Sampling Date  State  ...   NO2 RSPM/PM10 PM 2.5\n",
              "0        55      05-01-15  Delhi  ...  44.0     203.0    NaN\n",
              "1        55      08-01-15  Delhi  ...  45.0     214.0    NaN\n",
              "2        55      13-01-15  Delhi  ...  47.0     182.0    NaN\n",
              "3        55      16-01-15  Delhi  ...  43.0     204.0   78.0\n",
              "4        55      21-01-15  Delhi  ...  39.0     192.0   83.0\n",
              "\n",
              "[5 rows x 11 columns]"
            ]
          },
          "metadata": {
            "tags": []
          },
          "execution_count": 5
        }
      ]
    },
    {
      "cell_type": "markdown",
      "metadata": {
        "id": "dk-WXT0QmvQ1"
      },
      "source": [
        "# Data Cleaning"
      ]
    },
    {
      "cell_type": "code",
      "metadata": {
        "id": "TX3vOPYxG2d8",
        "colab": {
          "base_uri": "https://localhost:8080/"
        },
        "outputId": "077f7768-f355-4e16-d9d0-91444e6751dc"
      },
      "source": [
        "data.rename(columns={\"Stn Code\":\"Stn_code\",\"Sampling Date\":\"sampling_date\", \"State\":\"state\",\"City/Town/Village/Area\":\"city\",\n",
        "\"Location of Monitoring Station\":\"Location\",\"Agency\":\"agency\",\"Type of Location\":\"type_of_location\",\"RSPM/PM10\":\"RSPM\",\"PM 2.5\":\"PM\"},inplace=True)\n",
        "data.columns"
      ],
      "execution_count": null,
      "outputs": [
        {
          "output_type": "execute_result",
          "data": {
            "text/plain": [
              "Index(['Stn_code', 'sampling_date', 'state', 'city', 'Location', 'agency',\n",
              "       'type_of_location', 'SO2', 'NO2', 'RSPM', 'PM'],\n",
              "      dtype='object')"
            ]
          },
          "metadata": {
            "tags": []
          },
          "execution_count": 6
        }
      ]
    },
    {
      "cell_type": "markdown",
      "metadata": {
        "id": "DbhdjHnRG2eB"
      },
      "source": [
        "# Basic Infromation about data."
      ]
    },
    {
      "cell_type": "code",
      "metadata": {
        "id": "lzgaVX5QmURO",
        "colab": {
          "base_uri": "https://localhost:8080/"
        },
        "outputId": "53df3d22-101f-4f79-9654-8291555d72d4"
      },
      "source": [
        "print(\"Station code:\",data.Stn_code.unique())\n",
        "print(\"-\"*60)\n",
        "print(\"Location:\",data.Location.unique())\n",
        "print(\"-\"*60)\n",
        "print(\"agency:\",data.agency.unique())\n",
        "print(\"-\"*60)\n",
        "print(\"type_of_location:\",data.type_of_location.unique())\n",
        "print(\"-\"*60)"
      ],
      "execution_count": null,
      "outputs": [
        {
          "output_type": "stream",
          "text": [
            "Station code: [ 55  57  58  59  60 144 146 345 531]\n",
            "------------------------------------------------------------\n",
            "Location: ['Nizamuddin, Delhi' 'Shahzada Bagh, Delhi' 'Shahadra, Delhi'\n",
            " 'Janakpuri, Delhi' 'Siri Fort, Delhi'\n",
            " 'N.Y. SCHOOL, Sarojini Nagar, Delhi'\n",
            " 'Town Hall, Ayurvedic Dispensary, Chandni Chowk, Delhi'\n",
            " 'Mayapuri Industrial Area, Delhi' 'Pritampura, Delhi']\n",
            "------------------------------------------------------------\n",
            "agency: ['Central Pollution Control Board'\n",
            " 'National Environmental Engineering Research Institute']\n",
            "------------------------------------------------------------\n",
            "type_of_location: ['Residential, Rural and other Areas' 'Industrial Area']\n",
            "------------------------------------------------------------\n"
          ],
          "name": "stdout"
        }
      ]
    },
    {
      "cell_type": "markdown",
      "metadata": {
        "id": "uWpHiclTKKSb"
      },
      "source": [
        "Here, We can observe that there are nine places where data collection was done by two different organizations Some places are Residential area and some are industrial area among this. "
      ]
    },
    {
      "cell_type": "markdown",
      "metadata": {
        "id": "Tytbc6CdG2eN"
      },
      "source": [
        "# Setting date for Time series analysis\r\n"
      ]
    },
    {
      "cell_type": "code",
      "metadata": {
        "id": "BTbhgH-RG2eO"
      },
      "source": [
        "data['sampling_date']=pd.to_datetime(data['sampling_date'])"
      ],
      "execution_count": null,
      "outputs": []
    },
    {
      "cell_type": "code",
      "metadata": {
        "id": "LQr5Gz_BG2eU",
        "colab": {
          "base_uri": "https://localhost:8080/"
        },
        "outputId": "c40af6d5-fd45-4b83-aabe-1ba0790c8d3f"
      },
      "source": [
        "data.head()"
      ],
      "execution_count": null,
      "outputs": [
        {
          "output_type": "execute_result",
          "data": {
            "text/html": [
              "<div>\n",
              "<style scoped>\n",
              "    .dataframe tbody tr th:only-of-type {\n",
              "        vertical-align: middle;\n",
              "    }\n",
              "\n",
              "    .dataframe tbody tr th {\n",
              "        vertical-align: top;\n",
              "    }\n",
              "\n",
              "    .dataframe thead th {\n",
              "        text-align: right;\n",
              "    }\n",
              "</style>\n",
              "<table border=\"1\" class=\"dataframe\">\n",
              "  <thead>\n",
              "    <tr style=\"text-align: right;\">\n",
              "      <th></th>\n",
              "      <th>Stn_code</th>\n",
              "      <th>sampling_date</th>\n",
              "      <th>state</th>\n",
              "      <th>city</th>\n",
              "      <th>Location</th>\n",
              "      <th>agency</th>\n",
              "      <th>type_of_location</th>\n",
              "      <th>SO2</th>\n",
              "      <th>NO2</th>\n",
              "      <th>RSPM</th>\n",
              "      <th>PM</th>\n",
              "    </tr>\n",
              "  </thead>\n",
              "  <tbody>\n",
              "    <tr>\n",
              "      <th>0</th>\n",
              "      <td>55</td>\n",
              "      <td>2015-05-01</td>\n",
              "      <td>Delhi</td>\n",
              "      <td>Delhi</td>\n",
              "      <td>Nizamuddin, Delhi</td>\n",
              "      <td>Central Pollution Control Board</td>\n",
              "      <td>Residential, Rural and other Areas</td>\n",
              "      <td>4.0</td>\n",
              "      <td>44.0</td>\n",
              "      <td>203.0</td>\n",
              "      <td>NaN</td>\n",
              "    </tr>\n",
              "    <tr>\n",
              "      <th>1</th>\n",
              "      <td>55</td>\n",
              "      <td>2015-08-01</td>\n",
              "      <td>Delhi</td>\n",
              "      <td>Delhi</td>\n",
              "      <td>Nizamuddin, Delhi</td>\n",
              "      <td>Central Pollution Control Board</td>\n",
              "      <td>Residential, Rural and other Areas</td>\n",
              "      <td>4.0</td>\n",
              "      <td>45.0</td>\n",
              "      <td>214.0</td>\n",
              "      <td>NaN</td>\n",
              "    </tr>\n",
              "    <tr>\n",
              "      <th>2</th>\n",
              "      <td>55</td>\n",
              "      <td>2015-01-13</td>\n",
              "      <td>Delhi</td>\n",
              "      <td>Delhi</td>\n",
              "      <td>Nizamuddin, Delhi</td>\n",
              "      <td>Central Pollution Control Board</td>\n",
              "      <td>Residential, Rural and other Areas</td>\n",
              "      <td>4.0</td>\n",
              "      <td>47.0</td>\n",
              "      <td>182.0</td>\n",
              "      <td>NaN</td>\n",
              "    </tr>\n",
              "    <tr>\n",
              "      <th>3</th>\n",
              "      <td>55</td>\n",
              "      <td>2015-01-16</td>\n",
              "      <td>Delhi</td>\n",
              "      <td>Delhi</td>\n",
              "      <td>Nizamuddin, Delhi</td>\n",
              "      <td>Central Pollution Control Board</td>\n",
              "      <td>Residential, Rural and other Areas</td>\n",
              "      <td>4.0</td>\n",
              "      <td>43.0</td>\n",
              "      <td>204.0</td>\n",
              "      <td>78.0</td>\n",
              "    </tr>\n",
              "    <tr>\n",
              "      <th>4</th>\n",
              "      <td>55</td>\n",
              "      <td>2015-01-21</td>\n",
              "      <td>Delhi</td>\n",
              "      <td>Delhi</td>\n",
              "      <td>Nizamuddin, Delhi</td>\n",
              "      <td>Central Pollution Control Board</td>\n",
              "      <td>Residential, Rural and other Areas</td>\n",
              "      <td>4.0</td>\n",
              "      <td>39.0</td>\n",
              "      <td>192.0</td>\n",
              "      <td>83.0</td>\n",
              "    </tr>\n",
              "  </tbody>\n",
              "</table>\n",
              "</div>"
            ],
            "text/plain": [
              "   Stn_code sampling_date  state   city  ...  SO2   NO2   RSPM    PM\n",
              "0        55    2015-05-01  Delhi  Delhi  ...  4.0  44.0  203.0   NaN\n",
              "1        55    2015-08-01  Delhi  Delhi  ...  4.0  45.0  214.0   NaN\n",
              "2        55    2015-01-13  Delhi  Delhi  ...  4.0  47.0  182.0   NaN\n",
              "3        55    2015-01-16  Delhi  Delhi  ...  4.0  43.0  204.0  78.0\n",
              "4        55    2015-01-21  Delhi  Delhi  ...  4.0  39.0  192.0  83.0\n",
              "\n",
              "[5 rows x 11 columns]"
            ]
          },
          "metadata": {
            "tags": []
          },
          "execution_count": 9
        }
      ]
    },
    {
      "cell_type": "markdown",
      "metadata": {
        "id": "1HrATpN9G2eZ"
      },
      "source": [
        "# Dropping unnecessary columns from Dataframe and checking missing values."
      ]
    },
    {
      "cell_type": "code",
      "metadata": {
        "id": "Pe1-gb3EG2ea"
      },
      "source": [
        "data=data.drop(columns={\"Stn_code\",\"state\",\"city\"})"
      ],
      "execution_count": null,
      "outputs": []
    },
    {
      "cell_type": "markdown",
      "metadata": {
        "id": "3I21CVp3LEjx"
      },
      "source": [
        "We will remove Stn_code,State and city because we don't need that information in our analysis."
      ]
    },
    {
      "cell_type": "code",
      "metadata": {
        "id": "7GbIzkvg2g3R"
      },
      "source": [
        "data=data.sort_values(by='sampling_date')"
      ],
      "execution_count": null,
      "outputs": []
    },
    {
      "cell_type": "code",
      "metadata": {
        "id": "ATW0AH2K5X5T",
        "colab": {
          "base_uri": "https://localhost:8080/"
        },
        "outputId": "9ffd1a57-7472-4063-93d1-4c1db7c75f7b"
      },
      "source": [
        "data.isna().sum()"
      ],
      "execution_count": null,
      "outputs": [
        {
          "output_type": "execute_result",
          "data": {
            "text/plain": [
              "sampling_date         0\n",
              "Location              0\n",
              "agency                0\n",
              "type_of_location      0\n",
              "SO2                  13\n",
              "NO2                  12\n",
              "RSPM                 11\n",
              "PM                  373\n",
              "dtype: int64"
            ]
          },
          "metadata": {
            "tags": []
          },
          "execution_count": 12
        }
      ]
    },
    {
      "cell_type": "markdown",
      "metadata": {
        "id": "-2oOFicNG2et"
      },
      "source": [
        "# Seprating data based on agency and location."
      ]
    },
    {
      "cell_type": "markdown",
      "metadata": {
        "id": "fLU55m6bNIYf"
      },
      "source": [
        "Before starting the analysis we have to separate two organization's data because here we don't know that what kind of assumptions were made by particular organizations."
      ]
    },
    {
      "cell_type": "code",
      "metadata": {
        "id": "PtO89hvSG2ew",
        "colab": {
          "base_uri": "https://localhost:8080/"
        },
        "outputId": "2da4121c-a3e4-4776-cfc3-488efcd39499"
      },
      "source": [
        "data_CPB=data[data.agency == \"Central Pollution Control Board\"]\n",
        "data_CPB.count()"
      ],
      "execution_count": null,
      "outputs": [
        {
          "output_type": "execute_result",
          "data": {
            "text/plain": [
              "sampling_date       463\n",
              "Location            463\n",
              "agency              463\n",
              "type_of_location    463\n",
              "SO2                 450\n",
              "NO2                 451\n",
              "RSPM                452\n",
              "PM                  371\n",
              "dtype: int64"
            ]
          },
          "metadata": {
            "tags": []
          },
          "execution_count": 13
        }
      ]
    },
    {
      "cell_type": "code",
      "metadata": {
        "id": "N4sNKJwg9Kow",
        "colab": {
          "base_uri": "https://localhost:8080/"
        },
        "outputId": "aa0e11f0-cab7-43f0-d3a5-8e6b765b3cee"
      },
      "source": [
        "data_NEI=data[data.agency == \"National Environmental Engineering Research Institute\"]\n",
        "data_NEI.count()"
      ],
      "execution_count": null,
      "outputs": [
        {
          "output_type": "execute_result",
          "data": {
            "text/plain": [
              "sampling_date       281\n",
              "Location            281\n",
              "agency              281\n",
              "type_of_location    281\n",
              "SO2                 281\n",
              "NO2                 281\n",
              "RSPM                281\n",
              "PM                    0\n",
              "dtype: int64"
            ]
          },
          "metadata": {
            "tags": []
          },
          "execution_count": 14
        }
      ]
    },
    {
      "cell_type": "markdown",
      "metadata": {
        "id": "98p6AX0N9L6-"
      },
      "source": [
        "# Handling missing values using feed forward method."
      ]
    },
    {
      "cell_type": "markdown",
      "metadata": {
        "id": "pp6dxTRHNeBP"
      },
      "source": [
        "We will use forward fill method to fill missing value because if you take real world example today's AQI will not be very different from yesterday's AQI."
      ]
    },
    {
      "cell_type": "code",
      "metadata": {
        "id": "IH9T7K9uG2ek",
        "colab": {
          "base_uri": "https://localhost:8080/"
        },
        "outputId": "b5d778f9-85a6-41d3-a7ef-a9fce2607941"
      },
      "source": [
        "data_CPB=data_CPB.fillna(method=\"ffill\")\n",
        "data_CPB.count()"
      ],
      "execution_count": null,
      "outputs": [
        {
          "output_type": "execute_result",
          "data": {
            "text/plain": [
              "sampling_date       463\n",
              "Location            463\n",
              "agency              463\n",
              "type_of_location    463\n",
              "SO2                 463\n",
              "NO2                 463\n",
              "RSPM                463\n",
              "PM                  462\n",
              "dtype: int64"
            ]
          },
          "metadata": {
            "tags": []
          },
          "execution_count": 15
        }
      ]
    },
    {
      "cell_type": "code",
      "metadata": {
        "id": "5UsNyDdtuDZo",
        "colab": {
          "base_uri": "https://localhost:8080/"
        },
        "outputId": "72c701d1-b057-4439-b39a-2a3825829072"
      },
      "source": [
        "data_CPB.dropna(axis=0,inplace=True)\n",
        "data_CPB.count()"
      ],
      "execution_count": null,
      "outputs": [
        {
          "output_type": "execute_result",
          "data": {
            "text/plain": [
              "sampling_date       462\n",
              "Location            462\n",
              "agency              462\n",
              "type_of_location    462\n",
              "SO2                 462\n",
              "NO2                 462\n",
              "RSPM                462\n",
              "PM                  462\n",
              "dtype: int64"
            ]
          },
          "metadata": {
            "tags": []
          },
          "execution_count": 16
        }
      ]
    },
    {
      "cell_type": "code",
      "metadata": {
        "id": "KNGkf9Tq3Nay",
        "colab": {
          "base_uri": "https://localhost:8080/"
        },
        "outputId": "9738a36b-6e0d-4e10-baa2-0906e4316927"
      },
      "source": [
        "data_NEI=data_NEI.fillna(method=\"ffill\")\n",
        "data_NEI.count()"
      ],
      "execution_count": null,
      "outputs": [
        {
          "output_type": "execute_result",
          "data": {
            "text/plain": [
              "sampling_date       281\n",
              "Location            281\n",
              "agency              281\n",
              "type_of_location    281\n",
              "SO2                 281\n",
              "NO2                 281\n",
              "RSPM                281\n",
              "PM                    0\n",
              "dtype: int64"
            ]
          },
          "metadata": {
            "tags": []
          },
          "execution_count": 17
        }
      ]
    },
    {
      "cell_type": "code",
      "metadata": {
        "id": "l8TtHFQd8MIv",
        "colab": {
          "base_uri": "https://localhost:8080/"
        },
        "outputId": "b804fd45-43ea-41ee-81be-040651a48049"
      },
      "source": [
        "data_NEI.dropna(axis=1,inplace=True)\r\n",
        "data_NEI.count()"
      ],
      "execution_count": null,
      "outputs": [
        {
          "output_type": "execute_result",
          "data": {
            "text/plain": [
              "sampling_date       281\n",
              "Location            281\n",
              "agency              281\n",
              "type_of_location    281\n",
              "SO2                 281\n",
              "NO2                 281\n",
              "RSPM                281\n",
              "dtype: int64"
            ]
          },
          "metadata": {
            "tags": []
          },
          "execution_count": 18
        }
      ]
    },
    {
      "cell_type": "markdown",
      "metadata": {
        "id": "Gk4NN4hHuF3z"
      },
      "source": [
        "# Analysing data collected by Central pollution board control."
      ]
    },
    {
      "cell_type": "markdown",
      "metadata": {
        "id": "P_XqtrQocj6e"
      },
      "source": [
        "We know that there are two types of area in this data 1)Residential 2)Industrial\r\n",
        "now we will divide this data according to location type because pollution is generally high in the industrial area.So we will analyse this two types of data differently."
      ]
    },
    {
      "cell_type": "markdown",
      "metadata": {
        "id": "htc3-MzEtWuf"
      },
      "source": [
        "### Spliting data according to type of location."
      ]
    },
    {
      "cell_type": "code",
      "metadata": {
        "id": "-eOV6lsNG2fi",
        "colab": {
          "base_uri": "https://localhost:8080/",
          "height": 202
        },
        "outputId": "9b2aa20d-90d2-4c1b-f8fd-af3163451f1b"
      },
      "source": [
        "CPB_residential=data_CPB[data_CPB.type_of_location==\"Residential, Rural and other Areas\"]\n",
        "CPB_residential.head()"
      ],
      "execution_count": null,
      "outputs": [
        {
          "output_type": "execute_result",
          "data": {
            "text/html": [
              "<div>\n",
              "<style scoped>\n",
              "    .dataframe tbody tr th:only-of-type {\n",
              "        vertical-align: middle;\n",
              "    }\n",
              "\n",
              "    .dataframe tbody tr th {\n",
              "        vertical-align: top;\n",
              "    }\n",
              "\n",
              "    .dataframe thead th {\n",
              "        text-align: right;\n",
              "    }\n",
              "</style>\n",
              "<table border=\"1\" class=\"dataframe\">\n",
              "  <thead>\n",
              "    <tr style=\"text-align: right;\">\n",
              "      <th></th>\n",
              "      <th>sampling_date</th>\n",
              "      <th>Location</th>\n",
              "      <th>agency</th>\n",
              "      <th>type_of_location</th>\n",
              "      <th>SO2</th>\n",
              "      <th>NO2</th>\n",
              "      <th>RSPM</th>\n",
              "      <th>PM</th>\n",
              "    </tr>\n",
              "  </thead>\n",
              "  <tbody>\n",
              "    <tr>\n",
              "      <th>19</th>\n",
              "      <td>2015-01-04</td>\n",
              "      <td>Nizamuddin, Delhi</td>\n",
              "      <td>Central Pollution Control Board</td>\n",
              "      <td>Residential, Rural and other Areas</td>\n",
              "      <td>4.0</td>\n",
              "      <td>50.0</td>\n",
              "      <td>206.0</td>\n",
              "      <td>78.0</td>\n",
              "    </tr>\n",
              "    <tr>\n",
              "      <th>684</th>\n",
              "      <td>2015-01-04</td>\n",
              "      <td>Pritampura, Delhi</td>\n",
              "      <td>Central Pollution Control Board</td>\n",
              "      <td>Residential, Rural and other Areas</td>\n",
              "      <td>4.0</td>\n",
              "      <td>31.0</td>\n",
              "      <td>116.0</td>\n",
              "      <td>81.0</td>\n",
              "    </tr>\n",
              "    <tr>\n",
              "      <th>24</th>\n",
              "      <td>2015-01-05</td>\n",
              "      <td>Nizamuddin, Delhi</td>\n",
              "      <td>Central Pollution Control Board</td>\n",
              "      <td>Residential, Rural and other Areas</td>\n",
              "      <td>4.0</td>\n",
              "      <td>39.0</td>\n",
              "      <td>209.0</td>\n",
              "      <td>29.0</td>\n",
              "    </tr>\n",
              "    <tr>\n",
              "      <th>689</th>\n",
              "      <td>2015-01-05</td>\n",
              "      <td>Pritampura, Delhi</td>\n",
              "      <td>Central Pollution Control Board</td>\n",
              "      <td>Residential, Rural and other Areas</td>\n",
              "      <td>4.0</td>\n",
              "      <td>35.0</td>\n",
              "      <td>233.0</td>\n",
              "      <td>29.0</td>\n",
              "    </tr>\n",
              "    <tr>\n",
              "      <th>341</th>\n",
              "      <td>2015-01-06</td>\n",
              "      <td>Siri Fort, Delhi</td>\n",
              "      <td>Central Pollution Control Board</td>\n",
              "      <td>Residential, Rural and other Areas</td>\n",
              "      <td>4.0</td>\n",
              "      <td>45.0</td>\n",
              "      <td>151.0</td>\n",
              "      <td>28.0</td>\n",
              "    </tr>\n",
              "  </tbody>\n",
              "</table>\n",
              "</div>"
            ],
            "text/plain": [
              "    sampling_date           Location  ...   RSPM    PM\n",
              "19     2015-01-04  Nizamuddin, Delhi  ...  206.0  78.0\n",
              "684    2015-01-04  Pritampura, Delhi  ...  116.0  81.0\n",
              "24     2015-01-05  Nizamuddin, Delhi  ...  209.0  29.0\n",
              "689    2015-01-05  Pritampura, Delhi  ...  233.0  29.0\n",
              "341    2015-01-06   Siri Fort, Delhi  ...  151.0  28.0\n",
              "\n",
              "[5 rows x 8 columns]"
            ]
          },
          "metadata": {
            "tags": []
          },
          "execution_count": 19
        }
      ]
    },
    {
      "cell_type": "code",
      "metadata": {
        "id": "8e8kKYw0np9Q",
        "colab": {
          "base_uri": "https://localhost:8080/",
          "height": 202
        },
        "outputId": "feda2559-bb5a-42df-f014-b5bf814161e9"
      },
      "source": [
        "CPB_industrial=data_CPB[data_CPB.type_of_location==\"Industrial Area\"]\n",
        "CPB_industrial.head()"
      ],
      "execution_count": null,
      "outputs": [
        {
          "output_type": "execute_result",
          "data": {
            "text/html": [
              "<div>\n",
              "<style scoped>\n",
              "    .dataframe tbody tr th:only-of-type {\n",
              "        vertical-align: middle;\n",
              "    }\n",
              "\n",
              "    .dataframe tbody tr th {\n",
              "        vertical-align: top;\n",
              "    }\n",
              "\n",
              "    .dataframe thead th {\n",
              "        text-align: right;\n",
              "    }\n",
              "</style>\n",
              "<table border=\"1\" class=\"dataframe\">\n",
              "  <thead>\n",
              "    <tr style=\"text-align: right;\">\n",
              "      <th></th>\n",
              "      <th>sampling_date</th>\n",
              "      <th>Location</th>\n",
              "      <th>agency</th>\n",
              "      <th>type_of_location</th>\n",
              "      <th>SO2</th>\n",
              "      <th>NO2</th>\n",
              "      <th>RSPM</th>\n",
              "      <th>PM</th>\n",
              "    </tr>\n",
              "  </thead>\n",
              "  <tbody>\n",
              "    <tr>\n",
              "      <th>78</th>\n",
              "      <td>2015-01-01</td>\n",
              "      <td>Shahzada Bagh, Delhi</td>\n",
              "      <td>Central Pollution Control Board</td>\n",
              "      <td>Industrial Area</td>\n",
              "      <td>4.0</td>\n",
              "      <td>67.0</td>\n",
              "      <td>397.0</td>\n",
              "      <td>110.0</td>\n",
              "    </tr>\n",
              "    <tr>\n",
              "      <th>109</th>\n",
              "      <td>2015-01-06</td>\n",
              "      <td>Shahzada Bagh, Delhi</td>\n",
              "      <td>Central Pollution Control Board</td>\n",
              "      <td>Industrial Area</td>\n",
              "      <td>4.0</td>\n",
              "      <td>50.0</td>\n",
              "      <td>258.0</td>\n",
              "      <td>28.0</td>\n",
              "    </tr>\n",
              "    <tr>\n",
              "      <th>116</th>\n",
              "      <td>2015-01-07</td>\n",
              "      <td>Shahzada Bagh, Delhi</td>\n",
              "      <td>Central Pollution Control Board</td>\n",
              "      <td>Industrial Area</td>\n",
              "      <td>4.0</td>\n",
              "      <td>49.0</td>\n",
              "      <td>246.0</td>\n",
              "      <td>39.0</td>\n",
              "    </tr>\n",
              "    <tr>\n",
              "      <th>130</th>\n",
              "      <td>2015-01-09</td>\n",
              "      <td>Shahzada Bagh, Delhi</td>\n",
              "      <td>Central Pollution Control Board</td>\n",
              "      <td>Industrial Area</td>\n",
              "      <td>4.0</td>\n",
              "      <td>57.0</td>\n",
              "      <td>217.0</td>\n",
              "      <td>34.0</td>\n",
              "    </tr>\n",
              "    <tr>\n",
              "      <th>149</th>\n",
              "      <td>2015-01-12</td>\n",
              "      <td>Shahzada Bagh, Delhi</td>\n",
              "      <td>Central Pollution Control Board</td>\n",
              "      <td>Industrial Area</td>\n",
              "      <td>4.0</td>\n",
              "      <td>74.0</td>\n",
              "      <td>254.0</td>\n",
              "      <td>51.0</td>\n",
              "    </tr>\n",
              "  </tbody>\n",
              "</table>\n",
              "</div>"
            ],
            "text/plain": [
              "    sampling_date              Location  ...   RSPM     PM\n",
              "78     2015-01-01  Shahzada Bagh, Delhi  ...  397.0  110.0\n",
              "109    2015-01-06  Shahzada Bagh, Delhi  ...  258.0   28.0\n",
              "116    2015-01-07  Shahzada Bagh, Delhi  ...  246.0   39.0\n",
              "130    2015-01-09  Shahzada Bagh, Delhi  ...  217.0   34.0\n",
              "149    2015-01-12  Shahzada Bagh, Delhi  ...  254.0   51.0\n",
              "\n",
              "[5 rows x 8 columns]"
            ]
          },
          "metadata": {
            "tags": []
          },
          "execution_count": 20
        }
      ]
    },
    {
      "cell_type": "markdown",
      "metadata": {
        "id": "LSP6p1jsG2e-"
      },
      "source": [
        "### What is the concentration of SO2 in Delhi's air? "
      ]
    },
    {
      "cell_type": "code",
      "metadata": {
        "id": "ev3KsE-9Jur8"
      },
      "source": [
        "monthwise_data_industrial=CPB_industrial.groupby(CPB_industrial['sampling_date'].dt.strftime('%B'))['SO2'].sum()\r\n",
        "monthwise_data_industrial=pd.DataFrame(monthwise_data_industrial)\r\n",
        "monthwise_data_industrial=monthwise_data_industrial.reset_index()\r\n",
        "monthwise_data_industrial=Sort_Dataframeby_MonthandNumeric_cols(df = monthwise_data_industrial, monthcolumn='sampling_date',numericcolumn='SO2')\r\n",
        "###------------------------------------------------------------------------------------------------------------------------------------------------\r\n",
        "monthwise_data_residential=CPB_residential.groupby(CPB_residential['sampling_date'].dt.strftime('%B'))['SO2'].sum()\r\n",
        "monthwise_data_residential=pd.DataFrame(monthwise_data_residential)\r\n",
        "monthwise_data_residential=monthwise_data_residential.reset_index()\r\n",
        "monthwise_data_residential=Sort_Dataframeby_MonthandNumeric_cols(df = monthwise_data_residential, monthcolumn='sampling_date',numericcolumn='SO2')"
      ],
      "execution_count": null,
      "outputs": []
    },
    {
      "cell_type": "code",
      "metadata": {
        "id": "s4kXodLdgJ_5",
        "colab": {
          "base_uri": "https://localhost:8080/",
          "height": 320
        },
        "outputId": "94188eb4-d2ca-4701-dc49-0ce0cf272e4d"
      },
      "source": [
        "plt.figure(figsize=(15,5))\r\n",
        "plt.plot('sampling_date','SO2', data=monthwise_data_residential, marker='o', color='brown', linewidth=2)\r\n",
        "plt.plot('sampling_date','SO2', data=monthwise_data_industrial, marker='o', color='grey', linewidth=2)\r\n",
        "plt.legend(['Residential','Industrial'])\r\n",
        "plt.ylim(0)\r\n",
        "plt.show()"
      ],
      "execution_count": null,
      "outputs": [
        {
          "output_type": "display_data",
          "data": {
            "image/png": "[encoded data removed]",
            "text/plain": [
              "<Figure size 1080x360 with 1 Axes>"
            ]
          },
          "metadata": {
            "tags": [],
            "needs_background": "light"
          }
        }
      ]
    },
    {
      "cell_type": "markdown",
      "metadata": {
        "id": "NGX4w5AGKZ8o"
      },
      "source": [
        "Here,We can observe that Residential area is prime contributor of SO2 in Delhi's air quality.Since main source of SO2 is burning oil and gas and we mostly use oil and gas in vehicle so goverment should come up with policy to reduce vehicle."
      ]
    },
    {
      "cell_type": "markdown",
      "metadata": {
        "id": "n9W6HZvCG2f0"
      },
      "source": [
        "### What is the concentration of NO2 in Delhi's air?"
      ]
    },
    {
      "cell_type": "code",
      "metadata": {
        "id": "gkBuTX6EPs8N"
      },
      "source": [
        "monthwise_data_industrial=CPB_industrial.groupby(CPB_industrial['sampling_date'].dt.strftime('%B'))['NO2'].sum()\r\n",
        "monthwise_data_industrial=pd.DataFrame(monthwise_data_industrial)\r\n",
        "monthwise_data_industrial=monthwise_data_industrial.reset_index()\r\n",
        "monthwise_data_industrial=Sort_Dataframeby_MonthandNumeric_cols(df = monthwise_data_industrial, monthcolumn='sampling_date',numericcolumn='NO2')\r\n",
        "###------------------------------------------------------------------------------------------------------------------------------------------------\r\n",
        "monthwise_data_residential=CPB_residential.groupby(CPB_residential['sampling_date'].dt.strftime('%B'))['NO2'].sum()\r\n",
        "monthwise_data_residential=pd.DataFrame(monthwise_data_residential)\r\n",
        "monthwise_data_residential=monthwise_data_residential.reset_index()\r\n",
        "monthwise_data_residential=Sort_Dataframeby_MonthandNumeric_cols(df = monthwise_data_residential, monthcolumn='sampling_date',numericcolumn='NO2')"
      ],
      "execution_count": null,
      "outputs": []
    },
    {
      "cell_type": "code",
      "metadata": {
        "colab": {
          "base_uri": "https://localhost:8080/",
          "height": 322
        },
        "id": "H6_p9VnwRDLG",
        "outputId": "507309c0-a554-4fef-a844-1515749a877e"
      },
      "source": [
        "plt.figure(figsize=(15,5))\r\n",
        "plt.plot('sampling_date','NO2', data=monthwise_data_residential, marker='o', color='brown', linewidth=2)\r\n",
        "plt.plot('sampling_date','NO2', data=monthwise_data_industrial, marker='o', color='grey', linewidth=2)\r\n",
        "plt.legend(['Residential','Industrial'])\r\n",
        "plt.ylim(0)\r\n",
        "plt.show()"
      ],
      "execution_count": null,
      "outputs": [
        {
          "output_type": "display_data",
          "data": {
            "image/png": "[encoded data removed]",
            "text/plain": [
              "<Figure size 1080x360 with 1 Axes>"
            ]
          },
          "metadata": {
            "tags": [],
            "needs_background": "light"
          }
        }
      ]
    },
    {
      "cell_type": "markdown",
      "metadata": {
        "id": "gi9yZOwZG2gB"
      },
      "source": [
        "### What is the concentration of RSPM in Delhi's air?"
      ]
    },
    {
      "cell_type": "code",
      "metadata": {
        "id": "xB7aED3kxQ3o"
      },
      "source": [
        "monthwise_data_industrial=CPB_industrial.groupby(CPB_industrial['sampling_date'].dt.strftime('%B'))['RSPM'].sum()\r\n",
        "monthwise_data_industrial=pd.DataFrame(monthwise_data_industrial)\r\n",
        "monthwise_data_industrial=monthwise_data_industrial.reset_index()\r\n",
        "monthwise_data_industrial=Sort_Dataframeby_MonthandNumeric_cols(df = monthwise_data_industrial, monthcolumn='sampling_date',numericcolumn='RSPM')\r\n",
        "###------------------------------------------------------------------------------------------------------------------------------------------------\r\n",
        "monthwise_data_residential=CPB_residential.groupby(CPB_residential['sampling_date'].dt.strftime('%B'))['RSPM'].sum()\r\n",
        "monthwise_data_residential=pd.DataFrame(monthwise_data_residential)\r\n",
        "monthwise_data_residential=monthwise_data_residential.reset_index()\r\n",
        "monthwise_data_residential=Sort_Dataframeby_MonthandNumeric_cols(df = monthwise_data_residential, monthcolumn='sampling_date',numericcolumn='RSPM')"
      ],
      "execution_count": null,
      "outputs": []
    },
    {
      "cell_type": "code",
      "metadata": {
        "colab": {
          "base_uri": "https://localhost:8080/",
          "height": 320
        },
        "id": "jvgda00vRq-Y",
        "outputId": "e7fff3c3-2e82-4355-cafa-6fb654e46fd9"
      },
      "source": [
        "plt.figure(figsize=(15,5))\r\n",
        "plt.plot('sampling_date','RSPM', data=monthwise_data_residential, marker='o', color='brown', linewidth=2)\r\n",
        "plt.plot('sampling_date','RSPM', data=monthwise_data_industrial, marker='o', color='grey', linewidth=2)\r\n",
        "plt.legend(['Residential','Industrial'])\r\n",
        "plt.ylim(0)\r\n",
        "plt.show()"
      ],
      "execution_count": null,
      "outputs": [
        {
          "output_type": "display_data",
          "data": {
            "image/png": "[encoded data removed]",
            "text/plain": [
              "<Figure size 1080x360 with 1 Axes>"
            ]
          },
          "metadata": {
            "tags": [],
            "needs_background": "light"
          }
        }
      ]
    },
    {
      "cell_type": "markdown",
      "metadata": {
        "id": "sBws4Mk0G2gv"
      },
      "source": [
        "### What is the concentration of  PM in Delhi's air?"
      ]
    },
    {
      "cell_type": "code",
      "metadata": {
        "id": "KwmwdEvAzKQo"
      },
      "source": [
        "monthwise_data_industrial=CPB_industrial.groupby(CPB_industrial['sampling_date'].dt.strftime('%B'))['PM'].sum()\r\n",
        "monthwise_data_industrial=pd.DataFrame(monthwise_data_industrial)\r\n",
        "monthwise_data_industrial=monthwise_data_industrial.reset_index()\r\n",
        "monthwise_data_industrial=Sort_Dataframeby_MonthandNumeric_cols(df = monthwise_data_industrial, monthcolumn='sampling_date',numericcolumn='PM')\r\n",
        "###------------------------------------------------------------------------------------------------------------------------------------------------\r\n",
        "monthwise_data_residential=CPB_residential.groupby(CPB_residential['sampling_date'].dt.strftime('%B'))['PM'].sum()\r\n",
        "monthwise_data_residential=pd.DataFrame(monthwise_data_residential)\r\n",
        "monthwise_data_residential=monthwise_data_residential.reset_index()\r\n",
        "monthwise_data_residential=Sort_Dataframeby_MonthandNumeric_cols(df = monthwise_data_residential, monthcolumn='sampling_date',numericcolumn='PM')"
      ],
      "execution_count": null,
      "outputs": []
    },
    {
      "cell_type": "code",
      "metadata": {
        "colab": {
          "base_uri": "https://localhost:8080/",
          "height": 320
        },
        "id": "v9zE-KWiR-mb",
        "outputId": "b0fb24e6-c25e-4423-dd3d-c4d1cc21c88a"
      },
      "source": [
        "plt.figure(figsize=(15,5))\r\n",
        "plt.plot('sampling_date','PM', data=monthwise_data_residential, marker='o', color='brown', linewidth=2)\r\n",
        "plt.plot('sampling_date','PM', data=monthwise_data_industrial, marker='o', color='grey', linewidth=2)\r\n",
        "plt.legend(['Residential','Industrial'])\r\n",
        "plt.ylim(0)\r\n",
        "plt.show()"
      ],
      "execution_count": null,
      "outputs": [
        {
          "output_type": "display_data",
          "data": {
            "image/png": "[encoded data removed]",
            "text/plain": [
              "<Figure size 1080x360 with 1 Axes>"
            ]
          },
          "metadata": {
            "tags": [],
            "needs_background": "light"
          }
        }
      ]
    },
    {
      "cell_type": "markdown",
      "metadata": {
        "id": "qXsxAOraG2hp"
      },
      "source": [
        "## Location based Analysis"
      ]
    },
    {
      "cell_type": "code",
      "metadata": {
        "id": "GI8pCqbw3VYg"
      },
      "source": [
        "def locationwise_plot(data,column_name,color,title):\n",
        "    locationwise_data=data.groupby(data['Location'])[column_name].sum()\n",
        "    locationwise_data=pd.DataFrame(locationwise_data)\n",
        "    locationwise_data=locationwise_data.reset_index()\n",
        "    plt.figure(figsize=(10,5))\n",
        "    plt.ylabel('Total NO2')\n",
        "    plt.title(title)\n",
        "    plt.bar(locationwise_data['Location'],locationwise_data[column_name], align='center',color=color)\n",
        "    plt.show()\n",
        "    return locationwise_data.head()"
      ],
      "execution_count": null,
      "outputs": []
    },
    {
      "cell_type": "markdown",
      "metadata": {
        "id": "4vl9YOnuG2hu"
      },
      "source": [
        "#### Which Residential Area is highly polluted in Delhi?"
      ]
    },
    {
      "cell_type": "code",
      "metadata": {
        "id": "s8U583bg35Ce",
        "colab": {
          "base_uri": "https://localhost:8080/",
          "height": 481
        },
        "outputId": "dc760c76-76be-4d2e-fbb3-8321f7faf749"
      },
      "source": [
        "locationwise_plot(CPB_residential,'SO2','grey','Total SO2 in Residential Area of Delhi')"
      ],
      "execution_count": null,
      "outputs": [
        {
          "output_type": "display_data",
          "data": {
            "image/png": "[encoded data removed]",
            "text/plain": [
              "<Figure size 720x360 with 1 Axes>"
            ]
          },
          "metadata": {
            "tags": [],
            "needs_background": "light"
          }
        },
        {
          "output_type": "execute_result",
          "data": {
            "text/html": [
              "<div>\n",
              "<style scoped>\n",
              "    .dataframe tbody tr th:only-of-type {\n",
              "        vertical-align: middle;\n",
              "    }\n",
              "\n",
              "    .dataframe tbody tr th {\n",
              "        vertical-align: top;\n",
              "    }\n",
              "\n",
              "    .dataframe thead th {\n",
              "        text-align: right;\n",
              "    }\n",
              "</style>\n",
              "<table border=\"1\" class=\"dataframe\">\n",
              "  <thead>\n",
              "    <tr style=\"text-align: right;\">\n",
              "      <th></th>\n",
              "      <th>Location</th>\n",
              "      <th>SO2</th>\n",
              "    </tr>\n",
              "  </thead>\n",
              "  <tbody>\n",
              "    <tr>\n",
              "      <th>0</th>\n",
              "      <td>Janakpuri, Delhi</td>\n",
              "      <td>341.0</td>\n",
              "    </tr>\n",
              "    <tr>\n",
              "      <th>1</th>\n",
              "      <td>Nizamuddin, Delhi</td>\n",
              "      <td>331.0</td>\n",
              "    </tr>\n",
              "    <tr>\n",
              "      <th>2</th>\n",
              "      <td>Pritampura, Delhi</td>\n",
              "      <td>352.0</td>\n",
              "    </tr>\n",
              "    <tr>\n",
              "      <th>3</th>\n",
              "      <td>Siri Fort, Delhi</td>\n",
              "      <td>296.0</td>\n",
              "    </tr>\n",
              "  </tbody>\n",
              "</table>\n",
              "</div>"
            ],
            "text/plain": [
              "            Location    SO2\n",
              "0   Janakpuri, Delhi  341.0\n",
              "1  Nizamuddin, Delhi  331.0\n",
              "2  Pritampura, Delhi  352.0\n",
              "3   Siri Fort, Delhi  296.0"
            ]
          },
          "metadata": {
            "tags": []
          },
          "execution_count": 30
        }
      ]
    },
    {
      "cell_type": "code",
      "metadata": {
        "id": "RB1wLbYB-tlh",
        "colab": {
          "base_uri": "https://localhost:8080/",
          "height": 481
        },
        "outputId": "01a768ca-5dd2-4055-a5e4-57e82cd60cf8"
      },
      "source": [
        "locationwise_plot(CPB_residential,'NO2','brown','Total NO2 in Residential Area of Delhi')"
      ],
      "execution_count": null,
      "outputs": [
        {
          "output_type": "display_data",
          "data": {
            "image/png": "[encoded data removed]",
            "text/plain": [
              "<Figure size 720x360 with 1 Axes>"
            ]
          },
          "metadata": {
            "tags": [],
            "needs_background": "light"
          }
        },
        {
          "output_type": "execute_result",
          "data": {
            "text/html": [
              "<div>\n",
              "<style scoped>\n",
              "    .dataframe tbody tr th:only-of-type {\n",
              "        vertical-align: middle;\n",
              "    }\n",
              "\n",
              "    .dataframe tbody tr th {\n",
              "        vertical-align: top;\n",
              "    }\n",
              "\n",
              "    .dataframe thead th {\n",
              "        text-align: right;\n",
              "    }\n",
              "</style>\n",
              "<table border=\"1\" class=\"dataframe\">\n",
              "  <thead>\n",
              "    <tr style=\"text-align: right;\">\n",
              "      <th></th>\n",
              "      <th>Location</th>\n",
              "      <th>NO2</th>\n",
              "    </tr>\n",
              "  </thead>\n",
              "  <tbody>\n",
              "    <tr>\n",
              "      <th>0</th>\n",
              "      <td>Janakpuri, Delhi</td>\n",
              "      <td>3937.0</td>\n",
              "    </tr>\n",
              "    <tr>\n",
              "      <th>1</th>\n",
              "      <td>Nizamuddin, Delhi</td>\n",
              "      <td>3435.0</td>\n",
              "    </tr>\n",
              "    <tr>\n",
              "      <th>2</th>\n",
              "      <td>Pritampura, Delhi</td>\n",
              "      <td>2856.0</td>\n",
              "    </tr>\n",
              "    <tr>\n",
              "      <th>3</th>\n",
              "      <td>Siri Fort, Delhi</td>\n",
              "      <td>3616.0</td>\n",
              "    </tr>\n",
              "  </tbody>\n",
              "</table>\n",
              "</div>"
            ],
            "text/plain": [
              "            Location     NO2\n",
              "0   Janakpuri, Delhi  3937.0\n",
              "1  Nizamuddin, Delhi  3435.0\n",
              "2  Pritampura, Delhi  2856.0\n",
              "3   Siri Fort, Delhi  3616.0"
            ]
          },
          "metadata": {
            "tags": []
          },
          "execution_count": 31
        }
      ]
    },
    {
      "cell_type": "code",
      "metadata": {
        "id": "aF3SdhlO-7Cy",
        "colab": {
          "base_uri": "https://localhost:8080/",
          "height": 481
        },
        "outputId": "fa9ed2d3-857c-4374-fca7-7d89f0dbab0e"
      },
      "source": [
        "locationwise_plot(CPB_residential,'RSPM','orange','Total RSPM in Residential Area of Delhi')"
      ],
      "execution_count": null,
      "outputs": [
        {
          "output_type": "display_data",
          "data": {
            "image/png": "[encoded data removed]",
            "text/plain": [
              "<Figure size 720x360 with 1 Axes>"
            ]
          },
          "metadata": {
            "tags": [],
            "needs_background": "light"
          }
        },
        {
          "output_type": "execute_result",
          "data": {
            "text/html": [
              "<div>\n",
              "<style scoped>\n",
              "    .dataframe tbody tr th:only-of-type {\n",
              "        vertical-align: middle;\n",
              "    }\n",
              "\n",
              "    .dataframe tbody tr th {\n",
              "        vertical-align: top;\n",
              "    }\n",
              "\n",
              "    .dataframe thead th {\n",
              "        text-align: right;\n",
              "    }\n",
              "</style>\n",
              "<table border=\"1\" class=\"dataframe\">\n",
              "  <thead>\n",
              "    <tr style=\"text-align: right;\">\n",
              "      <th></th>\n",
              "      <th>Location</th>\n",
              "      <th>RSPM</th>\n",
              "    </tr>\n",
              "  </thead>\n",
              "  <tbody>\n",
              "    <tr>\n",
              "      <th>0</th>\n",
              "      <td>Janakpuri, Delhi</td>\n",
              "      <td>15497.0</td>\n",
              "    </tr>\n",
              "    <tr>\n",
              "      <th>1</th>\n",
              "      <td>Nizamuddin, Delhi</td>\n",
              "      <td>17576.0</td>\n",
              "    </tr>\n",
              "    <tr>\n",
              "      <th>2</th>\n",
              "      <td>Pritampura, Delhi</td>\n",
              "      <td>18766.0</td>\n",
              "    </tr>\n",
              "    <tr>\n",
              "      <th>3</th>\n",
              "      <td>Siri Fort, Delhi</td>\n",
              "      <td>13897.0</td>\n",
              "    </tr>\n",
              "  </tbody>\n",
              "</table>\n",
              "</div>"
            ],
            "text/plain": [
              "            Location     RSPM\n",
              "0   Janakpuri, Delhi  15497.0\n",
              "1  Nizamuddin, Delhi  17576.0\n",
              "2  Pritampura, Delhi  18766.0\n",
              "3   Siri Fort, Delhi  13897.0"
            ]
          },
          "metadata": {
            "tags": []
          },
          "execution_count": 32
        }
      ]
    },
    {
      "cell_type": "code",
      "metadata": {
        "id": "S0YCGFv4Aa9a",
        "colab": {
          "base_uri": "https://localhost:8080/",
          "height": 481
        },
        "outputId": "e99d8ee4-67e1-441c-b0df-1bada220bbdb"
      },
      "source": [
        "locationwise_plot(CPB_residential,'PM','red','Total PM in Residential Area of Delhi')"
      ],
      "execution_count": null,
      "outputs": [
        {
          "output_type": "display_data",
          "data": {
            "image/png": "[encoded data removed]",
            "text/plain": [
              "<Figure size 720x360 with 1 Axes>"
            ]
          },
          "metadata": {
            "tags": [],
            "needs_background": "light"
          }
        },
        {
          "output_type": "execute_result",
          "data": {
            "text/html": [
              "<div>\n",
              "<style scoped>\n",
              "    .dataframe tbody tr th:only-of-type {\n",
              "        vertical-align: middle;\n",
              "    }\n",
              "\n",
              "    .dataframe tbody tr th {\n",
              "        vertical-align: top;\n",
              "    }\n",
              "\n",
              "    .dataframe thead th {\n",
              "        text-align: right;\n",
              "    }\n",
              "</style>\n",
              "<table border=\"1\" class=\"dataframe\">\n",
              "  <thead>\n",
              "    <tr style=\"text-align: right;\">\n",
              "      <th></th>\n",
              "      <th>Location</th>\n",
              "      <th>PM</th>\n",
              "    </tr>\n",
              "  </thead>\n",
              "  <tbody>\n",
              "    <tr>\n",
              "      <th>0</th>\n",
              "      <td>Janakpuri, Delhi</td>\n",
              "      <td>7553.0</td>\n",
              "    </tr>\n",
              "    <tr>\n",
              "      <th>1</th>\n",
              "      <td>Nizamuddin, Delhi</td>\n",
              "      <td>6561.0</td>\n",
              "    </tr>\n",
              "    <tr>\n",
              "      <th>2</th>\n",
              "      <td>Pritampura, Delhi</td>\n",
              "      <td>8429.0</td>\n",
              "    </tr>\n",
              "    <tr>\n",
              "      <th>3</th>\n",
              "      <td>Siri Fort, Delhi</td>\n",
              "      <td>6544.0</td>\n",
              "    </tr>\n",
              "  </tbody>\n",
              "</table>\n",
              "</div>"
            ],
            "text/plain": [
              "            Location      PM\n",
              "0   Janakpuri, Delhi  7553.0\n",
              "1  Nizamuddin, Delhi  6561.0\n",
              "2  Pritampura, Delhi  8429.0\n",
              "3   Siri Fort, Delhi  6544.0"
            ]
          },
          "metadata": {
            "tags": []
          },
          "execution_count": 33
        }
      ]
    },
    {
      "cell_type": "markdown",
      "metadata": {
        "id": "9IR9r4tMG2iU"
      },
      "source": [
        "#### Which industrial Area is highly polluted in Delhi?"
      ]
    },
    {
      "cell_type": "code",
      "metadata": {
        "id": "TB1WiX1jAS7M",
        "colab": {
          "base_uri": "https://localhost:8080/",
          "height": 423
        },
        "outputId": "a02379a3-85c5-4cab-9f86-89514189b383"
      },
      "source": [
        "locationwise_plot(CPB_industrial,'SO2','grey','Total SO2 in Industrial Area of Delhi')"
      ],
      "execution_count": null,
      "outputs": [
        {
          "output_type": "display_data",
          "data": {
            "image/png": "[encoded data removed]",
            "text/plain": [
              "<Figure size 720x360 with 1 Axes>"
            ]
          },
          "metadata": {
            "tags": [],
            "needs_background": "light"
          }
        },
        {
          "output_type": "execute_result",
          "data": {
            "text/html": [
              "<div>\n",
              "<style scoped>\n",
              "    .dataframe tbody tr th:only-of-type {\n",
              "        vertical-align: middle;\n",
              "    }\n",
              "\n",
              "    .dataframe tbody tr th {\n",
              "        vertical-align: top;\n",
              "    }\n",
              "\n",
              "    .dataframe thead th {\n",
              "        text-align: right;\n",
              "    }\n",
              "</style>\n",
              "<table border=\"1\" class=\"dataframe\">\n",
              "  <thead>\n",
              "    <tr style=\"text-align: right;\">\n",
              "      <th></th>\n",
              "      <th>Location</th>\n",
              "      <th>SO2</th>\n",
              "    </tr>\n",
              "  </thead>\n",
              "  <tbody>\n",
              "    <tr>\n",
              "      <th>0</th>\n",
              "      <td>Shahadra, Delhi</td>\n",
              "      <td>324.0</td>\n",
              "    </tr>\n",
              "    <tr>\n",
              "      <th>1</th>\n",
              "      <td>Shahzada Bagh, Delhi</td>\n",
              "      <td>317.0</td>\n",
              "    </tr>\n",
              "  </tbody>\n",
              "</table>\n",
              "</div>"
            ],
            "text/plain": [
              "               Location    SO2\n",
              "0       Shahadra, Delhi  324.0\n",
              "1  Shahzada Bagh, Delhi  317.0"
            ]
          },
          "metadata": {
            "tags": []
          },
          "execution_count": 34
        }
      ]
    },
    {
      "cell_type": "code",
      "metadata": {
        "id": "zJQANJynBEVZ",
        "colab": {
          "base_uri": "https://localhost:8080/",
          "height": 423
        },
        "outputId": "df162f1a-d555-4d22-fd95-8fbaa63b4a0c"
      },
      "source": [
        "locationwise_plot(CPB_industrial,'NO2','brown','Total NO2 in Industrial Area of Delhi')"
      ],
      "execution_count": null,
      "outputs": [
        {
          "output_type": "display_data",
          "data": {
            "image/png": "[encoded data removed]",
            "text/plain": [
              "<Figure size 720x360 with 1 Axes>"
            ]
          },
          "metadata": {
            "tags": [],
            "needs_background": "light"
          }
        },
        {
          "output_type": "execute_result",
          "data": {
            "text/html": [
              "<div>\n",
              "<style scoped>\n",
              "    .dataframe tbody tr th:only-of-type {\n",
              "        vertical-align: middle;\n",
              "    }\n",
              "\n",
              "    .dataframe tbody tr th {\n",
              "        vertical-align: top;\n",
              "    }\n",
              "\n",
              "    .dataframe thead th {\n",
              "        text-align: right;\n",
              "    }\n",
              "</style>\n",
              "<table border=\"1\" class=\"dataframe\">\n",
              "  <thead>\n",
              "    <tr style=\"text-align: right;\">\n",
              "      <th></th>\n",
              "      <th>Location</th>\n",
              "      <th>NO2</th>\n",
              "    </tr>\n",
              "  </thead>\n",
              "  <tbody>\n",
              "    <tr>\n",
              "      <th>0</th>\n",
              "      <td>Shahadra, Delhi</td>\n",
              "      <td>4198.0</td>\n",
              "    </tr>\n",
              "    <tr>\n",
              "      <th>1</th>\n",
              "      <td>Shahzada Bagh, Delhi</td>\n",
              "      <td>4254.0</td>\n",
              "    </tr>\n",
              "  </tbody>\n",
              "</table>\n",
              "</div>"
            ],
            "text/plain": [
              "               Location     NO2\n",
              "0       Shahadra, Delhi  4198.0\n",
              "1  Shahzada Bagh, Delhi  4254.0"
            ]
          },
          "metadata": {
            "tags": []
          },
          "execution_count": 35
        }
      ]
    },
    {
      "cell_type": "code",
      "metadata": {
        "id": "cf1RCpPYBR2j",
        "colab": {
          "base_uri": "https://localhost:8080/",
          "height": 423
        },
        "outputId": "a94f2898-0aa0-4017-b255-90c5bdb34bda"
      },
      "source": [
        "locationwise_plot(CPB_industrial,'RSPM','orange','Total RSPM in Industrial Area of Delhi')"
      ],
      "execution_count": null,
      "outputs": [
        {
          "output_type": "display_data",
          "data": {
            "image/png": "[encoded data removed]",
            "text/plain": [
              "<Figure size 720x360 with 1 Axes>"
            ]
          },
          "metadata": {
            "tags": [],
            "needs_background": "light"
          }
        },
        {
          "output_type": "execute_result",
          "data": {
            "text/html": [
              "<div>\n",
              "<style scoped>\n",
              "    .dataframe tbody tr th:only-of-type {\n",
              "        vertical-align: middle;\n",
              "    }\n",
              "\n",
              "    .dataframe tbody tr th {\n",
              "        vertical-align: top;\n",
              "    }\n",
              "\n",
              "    .dataframe thead th {\n",
              "        text-align: right;\n",
              "    }\n",
              "</style>\n",
              "<table border=\"1\" class=\"dataframe\">\n",
              "  <thead>\n",
              "    <tr style=\"text-align: right;\">\n",
              "      <th></th>\n",
              "      <th>Location</th>\n",
              "      <th>RSPM</th>\n",
              "    </tr>\n",
              "  </thead>\n",
              "  <tbody>\n",
              "    <tr>\n",
              "      <th>0</th>\n",
              "      <td>Shahadra, Delhi</td>\n",
              "      <td>19269.0</td>\n",
              "    </tr>\n",
              "    <tr>\n",
              "      <th>1</th>\n",
              "      <td>Shahzada Bagh, Delhi</td>\n",
              "      <td>20054.0</td>\n",
              "    </tr>\n",
              "  </tbody>\n",
              "</table>\n",
              "</div>"
            ],
            "text/plain": [
              "               Location     RSPM\n",
              "0       Shahadra, Delhi  19269.0\n",
              "1  Shahzada Bagh, Delhi  20054.0"
            ]
          },
          "metadata": {
            "tags": []
          },
          "execution_count": 36
        }
      ]
    },
    {
      "cell_type": "code",
      "metadata": {
        "id": "G_g2TTfhBZCq",
        "colab": {
          "base_uri": "https://localhost:8080/",
          "height": 423
        },
        "outputId": "f5ceeb92-60c2-4228-94f0-c52acb5cfdfb"
      },
      "source": [
        "locationwise_plot(CPB_industrial,'PM','red','Total PM2.5 in Industrial Area of Delhi')"
      ],
      "execution_count": null,
      "outputs": [
        {
          "output_type": "display_data",
          "data": {
            "image/png": "[encoded data removed]",
            "text/plain": [
              "<Figure size 720x360 with 1 Axes>"
            ]
          },
          "metadata": {
            "tags": [],
            "needs_background": "light"
          }
        },
        {
          "output_type": "execute_result",
          "data": {
            "text/html": [
              "<div>\n",
              "<style scoped>\n",
              "    .dataframe tbody tr th:only-of-type {\n",
              "        vertical-align: middle;\n",
              "    }\n",
              "\n",
              "    .dataframe tbody tr th {\n",
              "        vertical-align: top;\n",
              "    }\n",
              "\n",
              "    .dataframe thead th {\n",
              "        text-align: right;\n",
              "    }\n",
              "</style>\n",
              "<table border=\"1\" class=\"dataframe\">\n",
              "  <thead>\n",
              "    <tr style=\"text-align: right;\">\n",
              "      <th></th>\n",
              "      <th>Location</th>\n",
              "      <th>PM</th>\n",
              "    </tr>\n",
              "  </thead>\n",
              "  <tbody>\n",
              "    <tr>\n",
              "      <th>0</th>\n",
              "      <td>Shahadra, Delhi</td>\n",
              "      <td>7737.0</td>\n",
              "    </tr>\n",
              "    <tr>\n",
              "      <th>1</th>\n",
              "      <td>Shahzada Bagh, Delhi</td>\n",
              "      <td>7360.0</td>\n",
              "    </tr>\n",
              "  </tbody>\n",
              "</table>\n",
              "</div>"
            ],
            "text/plain": [
              "               Location      PM\n",
              "0       Shahadra, Delhi  7737.0\n",
              "1  Shahzada Bagh, Delhi  7360.0"
            ]
          },
          "metadata": {
            "tags": []
          },
          "execution_count": 37
        }
      ]
    },
    {
      "cell_type": "markdown",
      "metadata": {
        "id": "ymy9dV_1TFlb"
      },
      "source": [
        "# Analysing data collected by National Environmental Engineering Research Institute."
      ]
    },
    {
      "cell_type": "code",
      "metadata": {
        "colab": {
          "base_uri": "https://localhost:8080/",
          "height": 191
        },
        "id": "To5qvADIheaf",
        "outputId": "e360ebb3-373f-41da-d431-bfdbc9c65e80"
      },
      "source": [
        "NEI_residential=data_NEI[data_NEI.type_of_location==\"Residential, Rural and other Areas\"]\n",
        "NEI_residential.head()"
      ],
      "execution_count": null,
      "outputs": [
        {
          "output_type": "execute_result",
          "data": {
            "text/html": [
              "<div>\n",
              "<style scoped>\n",
              "    .dataframe tbody tr th:only-of-type {\n",
              "        vertical-align: middle;\n",
              "    }\n",
              "\n",
              "    .dataframe tbody tr th {\n",
              "        vertical-align: top;\n",
              "    }\n",
              "\n",
              "    .dataframe thead th {\n",
              "        text-align: right;\n",
              "    }\n",
              "</style>\n",
              "<table border=\"1\" class=\"dataframe\">\n",
              "  <thead>\n",
              "    <tr style=\"text-align: right;\">\n",
              "      <th></th>\n",
              "      <th>sampling_date</th>\n",
              "      <th>Location</th>\n",
              "      <th>agency</th>\n",
              "      <th>type_of_location</th>\n",
              "      <th>SO2</th>\n",
              "      <th>NO2</th>\n",
              "      <th>RSPM</th>\n",
              "    </tr>\n",
              "  </thead>\n",
              "  <tbody>\n",
              "    <tr>\n",
              "      <th>407</th>\n",
              "      <td>2015-01-04</td>\n",
              "      <td>N.Y. SCHOOL, Sarojini Nagar, Delhi</td>\n",
              "      <td>National Environmental Engineering Research In...</td>\n",
              "      <td>Residential, Rural and other Areas</td>\n",
              "      <td>13.0</td>\n",
              "      <td>87.0</td>\n",
              "      <td>117.0</td>\n",
              "    </tr>\n",
              "    <tr>\n",
              "      <th>524</th>\n",
              "      <td>2015-01-07</td>\n",
              "      <td>Town Hall, Ayurvedic Dispensary, Chandni Chowk...</td>\n",
              "      <td>National Environmental Engineering Research In...</td>\n",
              "      <td>Residential, Rural and other Areas</td>\n",
              "      <td>2.0</td>\n",
              "      <td>29.0</td>\n",
              "      <td>72.0</td>\n",
              "    </tr>\n",
              "    <tr>\n",
              "      <th>540</th>\n",
              "      <td>2015-01-09</td>\n",
              "      <td>Town Hall, Ayurvedic Dispensary, Chandni Chowk...</td>\n",
              "      <td>National Environmental Engineering Research In...</td>\n",
              "      <td>Residential, Rural and other Areas</td>\n",
              "      <td>2.0</td>\n",
              "      <td>47.0</td>\n",
              "      <td>110.0</td>\n",
              "    </tr>\n",
              "    <tr>\n",
              "      <th>388</th>\n",
              "      <td>2015-01-14</td>\n",
              "      <td>N.Y. SCHOOL, Sarojini Nagar, Delhi</td>\n",
              "      <td>National Environmental Engineering Research In...</td>\n",
              "      <td>Residential, Rural and other Areas</td>\n",
              "      <td>8.0</td>\n",
              "      <td>117.0</td>\n",
              "      <td>162.0</td>\n",
              "    </tr>\n",
              "    <tr>\n",
              "      <th>389</th>\n",
              "      <td>2015-01-15</td>\n",
              "      <td>N.Y. SCHOOL, Sarojini Nagar, Delhi</td>\n",
              "      <td>National Environmental Engineering Research In...</td>\n",
              "      <td>Residential, Rural and other Areas</td>\n",
              "      <td>10.0</td>\n",
              "      <td>107.0</td>\n",
              "      <td>179.0</td>\n",
              "    </tr>\n",
              "  </tbody>\n",
              "</table>\n",
              "</div>"
            ],
            "text/plain": [
              "    sampling_date  ...   RSPM\n",
              "407    2015-01-04  ...  117.0\n",
              "524    2015-01-07  ...   72.0\n",
              "540    2015-01-09  ...  110.0\n",
              "388    2015-01-14  ...  162.0\n",
              "389    2015-01-15  ...  179.0\n",
              "\n",
              "[5 rows x 7 columns]"
            ]
          },
          "metadata": {
            "tags": []
          },
          "execution_count": 38
        }
      ]
    },
    {
      "cell_type": "code",
      "metadata": {
        "colab": {
          "base_uri": "https://localhost:8080/",
          "height": 191
        },
        "id": "Tzzp7LbOiWR4",
        "outputId": "14114b39-8cd9-4aa3-f9fc-67a1c1d753f8"
      },
      "source": [
        "NEI_industrial=data_NEI[data_NEI.type_of_location==\"Industrial Area\"]\n",
        "NEI_industrial.head()"
      ],
      "execution_count": null,
      "outputs": [
        {
          "output_type": "execute_result",
          "data": {
            "text/html": [
              "<div>\n",
              "<style scoped>\n",
              "    .dataframe tbody tr th:only-of-type {\n",
              "        vertical-align: middle;\n",
              "    }\n",
              "\n",
              "    .dataframe tbody tr th {\n",
              "        vertical-align: top;\n",
              "    }\n",
              "\n",
              "    .dataframe thead th {\n",
              "        text-align: right;\n",
              "    }\n",
              "</style>\n",
              "<table border=\"1\" class=\"dataframe\">\n",
              "  <thead>\n",
              "    <tr style=\"text-align: right;\">\n",
              "      <th></th>\n",
              "      <th>sampling_date</th>\n",
              "      <th>Location</th>\n",
              "      <th>agency</th>\n",
              "      <th>type_of_location</th>\n",
              "      <th>SO2</th>\n",
              "      <th>NO2</th>\n",
              "      <th>RSPM</th>\n",
              "    </tr>\n",
              "  </thead>\n",
              "  <tbody>\n",
              "    <tr>\n",
              "      <th>618</th>\n",
              "      <td>2015-01-07</td>\n",
              "      <td>Mayapuri Industrial Area, Delhi</td>\n",
              "      <td>National Environmental Engineering Research In...</td>\n",
              "      <td>Industrial Area</td>\n",
              "      <td>2.0</td>\n",
              "      <td>23.0</td>\n",
              "      <td>164.0</td>\n",
              "    </tr>\n",
              "    <tr>\n",
              "      <th>634</th>\n",
              "      <td>2015-01-09</td>\n",
              "      <td>Mayapuri Industrial Area, Delhi</td>\n",
              "      <td>National Environmental Engineering Research In...</td>\n",
              "      <td>Industrial Area</td>\n",
              "      <td>2.0</td>\n",
              "      <td>70.0</td>\n",
              "      <td>171.0</td>\n",
              "    </tr>\n",
              "    <tr>\n",
              "      <th>571</th>\n",
              "      <td>2015-01-14</td>\n",
              "      <td>Mayapuri Industrial Area, Delhi</td>\n",
              "      <td>National Environmental Engineering Research In...</td>\n",
              "      <td>Industrial Area</td>\n",
              "      <td>9.0</td>\n",
              "      <td>99.0</td>\n",
              "      <td>344.0</td>\n",
              "    </tr>\n",
              "    <tr>\n",
              "      <th>572</th>\n",
              "      <td>2015-01-15</td>\n",
              "      <td>Mayapuri Industrial Area, Delhi</td>\n",
              "      <td>National Environmental Engineering Research In...</td>\n",
              "      <td>Industrial Area</td>\n",
              "      <td>10.0</td>\n",
              "      <td>98.0</td>\n",
              "      <td>304.0</td>\n",
              "    </tr>\n",
              "    <tr>\n",
              "      <th>573</th>\n",
              "      <td>2015-01-16</td>\n",
              "      <td>Mayapuri Industrial Area, Delhi</td>\n",
              "      <td>National Environmental Engineering Research In...</td>\n",
              "      <td>Industrial Area</td>\n",
              "      <td>8.0</td>\n",
              "      <td>122.0</td>\n",
              "      <td>374.0</td>\n",
              "    </tr>\n",
              "  </tbody>\n",
              "</table>\n",
              "</div>"
            ],
            "text/plain": [
              "    sampling_date                         Location  ...    NO2   RSPM\n",
              "618    2015-01-07  Mayapuri Industrial Area, Delhi  ...   23.0  164.0\n",
              "634    2015-01-09  Mayapuri Industrial Area, Delhi  ...   70.0  171.0\n",
              "571    2015-01-14  Mayapuri Industrial Area, Delhi  ...   99.0  344.0\n",
              "572    2015-01-15  Mayapuri Industrial Area, Delhi  ...   98.0  304.0\n",
              "573    2015-01-16  Mayapuri Industrial Area, Delhi  ...  122.0  374.0\n",
              "\n",
              "[5 rows x 7 columns]"
            ]
          },
          "metadata": {
            "tags": []
          },
          "execution_count": 39
        }
      ]
    },
    {
      "cell_type": "code",
      "metadata": {
        "id": "zFfcShOgTQNS"
      },
      "source": [
        "monthwise_data_industrial=NEI_industrial.groupby(NEI_industrial['sampling_date'].dt.strftime('%B'))['SO2'].sum()\r\n",
        "monthwise_data_industrial=pd.DataFrame(monthwise_data_industrial)\r\n",
        "monthwise_data_industrial=monthwise_data_industrial.reset_index()\r\n",
        "monthwise_data_industrial=Sort_Dataframeby_MonthandNumeric_cols(df = monthwise_data_industrial, monthcolumn='sampling_date',numericcolumn='SO2')\r\n",
        "###------------------------------------------------------------------------------------------------------------------------------------------------\r\n",
        "monthwise_data_residential=NEI_residential.groupby(NEI_residential['sampling_date'].dt.strftime('%B'))['SO2'].sum()\r\n",
        "monthwise_data_residential=pd.DataFrame(monthwise_data_residential)\r\n",
        "monthwise_data_residential=monthwise_data_residential.reset_index()\r\n",
        "monthwise_data_residential=Sort_Dataframeby_MonthandNumeric_cols(df = monthwise_data_residential, monthcolumn='sampling_date',numericcolumn='SO2')"
      ],
      "execution_count": null,
      "outputs": []
    },
    {
      "cell_type": "code",
      "metadata": {
        "colab": {
          "base_uri": "https://localhost:8080/",
          "height": 320
        },
        "id": "T77EprYPiTGl",
        "outputId": "42b58cdc-7649-4c9c-df45-3c8293b68093"
      },
      "source": [
        "plt.figure(figsize=(15,5))\r\n",
        "plt.plot('sampling_date','SO2', data=monthwise_data_residential, marker='o', color='brown', linewidth=2)\r\n",
        "plt.plot('sampling_date','SO2', data=monthwise_data_industrial, marker='o', color='grey', linewidth=2)\r\n",
        "plt.legend(['Residential','Industrial'])\r\n",
        "plt.ylim(0)\r\n",
        "plt.show()"
      ],
      "execution_count": null,
      "outputs": [
        {
          "output_type": "display_data",
          "data": {
            "image/png": "[encoded data removed]",
            "text/plain": [
              "<Figure size 1080x360 with 1 Axes>"
            ]
          },
          "metadata": {
            "tags": [],
            "needs_background": "light"
          }
        }
      ]
    },
    {
      "cell_type": "code",
      "metadata": {
        "id": "p6bj79idCTRx"
      },
      "source": [
        "monthwise_data_industrial=NEI_industrial.groupby(NEI_industrial['sampling_date'].dt.strftime('%B'))['NO2'].sum()\r\n",
        "monthwise_data_industrial=pd.DataFrame(monthwise_data_industrial)\r\n",
        "monthwise_data_industrial=monthwise_data_industrial.reset_index()\r\n",
        "monthwise_data_industrial=Sort_Dataframeby_MonthandNumeric_cols(df = monthwise_data_industrial, monthcolumn='sampling_date',numericcolumn='NO2')\r\n",
        "###------------------------------------------------------------------------------------------------------------------------------------------------\r\n",
        "monthwise_data_residential=NEI_residential.groupby(NEI_residential['sampling_date'].dt.strftime('%B'))['NO2'].sum()\r\n",
        "monthwise_data_residential=pd.DataFrame(monthwise_data_residential)\r\n",
        "monthwise_data_residential=monthwise_data_residential.reset_index()\r\n",
        "monthwise_data_residential=Sort_Dataframeby_MonthandNumeric_cols(df = monthwise_data_residential, monthcolumn='sampling_date',numericcolumn='NO2')"
      ],
      "execution_count": null,
      "outputs": []
    },
    {
      "cell_type": "code",
      "metadata": {
        "colab": {
          "base_uri": "https://localhost:8080/",
          "height": 320
        },
        "id": "XB1SfKWZCOi_",
        "outputId": "0869cc6c-9096-4e82-e27f-4bc2bbbf23f6"
      },
      "source": [
        "plt.figure(figsize=(15,5))\r\n",
        "plt.plot('sampling_date','NO2', data=monthwise_data_residential, marker='o', color='brown', linewidth=2)\r\n",
        "plt.plot('sampling_date','NO2', data=monthwise_data_industrial, marker='o', color='grey', linewidth=2)\r\n",
        "plt.legend(['Residential','Industrial'])\r\n",
        "plt.ylim(0)\r\n",
        "plt.show()"
      ],
      "execution_count": null,
      "outputs": [
        {
          "output_type": "display_data",
          "data": {
            "image/png": "[encoded data removed]",
            "text/plain": [
              "<Figure size 1080x360 with 1 Axes>"
            ]
          },
          "metadata": {
            "tags": [],
            "needs_background": "light"
          }
        }
      ]
    },
    {
      "cell_type": "code",
      "metadata": {
        "id": "GwftaQFSCoqO"
      },
      "source": [
        "monthwise_data_industrial=NEI_industrial.groupby(NEI_industrial['sampling_date'].dt.strftime('%B'))['RSPM'].sum()\r\n",
        "monthwise_data_industrial=pd.DataFrame(monthwise_data_industrial)\r\n",
        "monthwise_data_industrial=monthwise_data_industrial.reset_index()\r\n",
        "monthwise_data_industrial=Sort_Dataframeby_MonthandNumeric_cols(df = monthwise_data_industrial, monthcolumn='sampling_date',numericcolumn='RSPM')\r\n",
        "###------------------------------------------------------------------------------------------------------------------------------------------------\r\n",
        "monthwise_data_residential=NEI_residential.groupby(NEI_residential['sampling_date'].dt.strftime('%B'))['RSPM'].sum()\r\n",
        "monthwise_data_residential=pd.DataFrame(monthwise_data_residential)\r\n",
        "monthwise_data_residential=monthwise_data_residential.reset_index()\r\n",
        "monthwise_data_residential=Sort_Dataframeby_MonthandNumeric_cols(df = monthwise_data_residential, monthcolumn='sampling_date',numericcolumn='RSPM')"
      ],
      "execution_count": null,
      "outputs": []
    },
    {
      "cell_type": "code",
      "metadata": {
        "colab": {
          "base_uri": "https://localhost:8080/",
          "height": 320
        },
        "id": "nVeyVDqECyfm",
        "outputId": "97552aad-8f22-4aea-96fe-53f00a862653"
      },
      "source": [
        "plt.figure(figsize=(15,5))\r\n",
        "plt.plot('sampling_date','RSPM', data=monthwise_data_residential, marker='o', color='brown', linewidth=2)\r\n",
        "plt.plot('sampling_date','RSPM', data=monthwise_data_industrial, marker='o', color='grey', linewidth=2)\r\n",
        "plt.legend(['Residential','Industrial'])\r\n",
        "plt.ylim(0)\r\n",
        "plt.show()"
      ],
      "execution_count": null,
      "outputs": [
        {
          "output_type": "display_data",
          "data": {
            "image/png": "[encoded data removed]",
            "text/plain": [
              "<Figure size 1080x360 with 1 Axes>"
            ]
          },
          "metadata": {
            "tags": [],
            "needs_background": "light"
          }
        }
      ]
    },
    {
      "cell_type": "code",
      "metadata": {
        "colab": {
          "base_uri": "https://localhost:8080/",
          "height": 423
        },
        "id": "Z0iXtUcvkicq",
        "outputId": "5cc728e4-7c81-4483-dc4e-9acd015fb622"
      },
      "source": [
        "locationwise_plot(NEI_residential,'SO2','grey','Location wise SO2 residential Area of Delhi')"
      ],
      "execution_count": null,
      "outputs": [
        {
          "output_type": "display_data",
          "data": {
            "image/png": "[encoded data removed]",
            "text/plain": [
              "<Figure size 720x360 with 1 Axes>"
            ]
          },
          "metadata": {
            "tags": [],
            "needs_background": "light"
          }
        },
        {
          "output_type": "execute_result",
          "data": {
            "text/html": [
              "<div>\n",
              "<style scoped>\n",
              "    .dataframe tbody tr th:only-of-type {\n",
              "        vertical-align: middle;\n",
              "    }\n",
              "\n",
              "    .dataframe tbody tr th {\n",
              "        vertical-align: top;\n",
              "    }\n",
              "\n",
              "    .dataframe thead th {\n",
              "        text-align: right;\n",
              "    }\n",
              "</style>\n",
              "<table border=\"1\" class=\"dataframe\">\n",
              "  <thead>\n",
              "    <tr style=\"text-align: right;\">\n",
              "      <th></th>\n",
              "      <th>Location</th>\n",
              "      <th>SO2</th>\n",
              "    </tr>\n",
              "  </thead>\n",
              "  <tbody>\n",
              "    <tr>\n",
              "      <th>0</th>\n",
              "      <td>N.Y. SCHOOL, Sarojini Nagar, Delhi</td>\n",
              "      <td>669.0</td>\n",
              "    </tr>\n",
              "    <tr>\n",
              "      <th>1</th>\n",
              "      <td>Town Hall, Ayurvedic Dispensary, Chandni Chowk...</td>\n",
              "      <td>685.0</td>\n",
              "    </tr>\n",
              "  </tbody>\n",
              "</table>\n",
              "</div>"
            ],
            "text/plain": [
              "                                            Location    SO2\n",
              "0                 N.Y. SCHOOL, Sarojini Nagar, Delhi  669.0\n",
              "1  Town Hall, Ayurvedic Dispensary, Chandni Chowk...  685.0"
            ]
          },
          "metadata": {
            "tags": []
          },
          "execution_count": 46
        }
      ]
    },
    {
      "cell_type": "code",
      "metadata": {
        "colab": {
          "base_uri": "https://localhost:8080/",
          "height": 423
        },
        "id": "WYmrL0WNkiNH",
        "outputId": "c7824e6b-634b-4b7e-a6fe-39885a66b57c"
      },
      "source": [
        "locationwise_plot(NEI_residential,'NO2','brown','Location wise NO2 residential Area of Delhi')"
      ],
      "execution_count": null,
      "outputs": [
        {
          "output_type": "display_data",
          "data": {
            "image/png": "[encoded data removed]",
            "text/plain": [
              "<Figure size 720x360 with 1 Axes>"
            ]
          },
          "metadata": {
            "tags": [],
            "needs_background": "light"
          }
        },
        {
          "output_type": "execute_result",
          "data": {
            "text/html": [
              "<div>\n",
              "<style scoped>\n",
              "    .dataframe tbody tr th:only-of-type {\n",
              "        vertical-align: middle;\n",
              "    }\n",
              "\n",
              "    .dataframe tbody tr th {\n",
              "        vertical-align: top;\n",
              "    }\n",
              "\n",
              "    .dataframe thead th {\n",
              "        text-align: right;\n",
              "    }\n",
              "</style>\n",
              "<table border=\"1\" class=\"dataframe\">\n",
              "  <thead>\n",
              "    <tr style=\"text-align: right;\">\n",
              "      <th></th>\n",
              "      <th>Location</th>\n",
              "      <th>NO2</th>\n",
              "    </tr>\n",
              "  </thead>\n",
              "  <tbody>\n",
              "    <tr>\n",
              "      <th>0</th>\n",
              "      <td>N.Y. SCHOOL, Sarojini Nagar, Delhi</td>\n",
              "      <td>8332.0</td>\n",
              "    </tr>\n",
              "    <tr>\n",
              "      <th>1</th>\n",
              "      <td>Town Hall, Ayurvedic Dispensary, Chandni Chowk...</td>\n",
              "      <td>9795.0</td>\n",
              "    </tr>\n",
              "  </tbody>\n",
              "</table>\n",
              "</div>"
            ],
            "text/plain": [
              "                                            Location     NO2\n",
              "0                 N.Y. SCHOOL, Sarojini Nagar, Delhi  8332.0\n",
              "1  Town Hall, Ayurvedic Dispensary, Chandni Chowk...  9795.0"
            ]
          },
          "metadata": {
            "tags": []
          },
          "execution_count": 47
        }
      ]
    },
    {
      "cell_type": "code",
      "metadata": {
        "colab": {
          "base_uri": "https://localhost:8080/",
          "height": 423
        },
        "id": "eMDqLxCnk9LD",
        "outputId": "3b46f2f3-d7a3-46e7-ee2c-0cedbf69d5dd"
      },
      "source": [
        "locationwise_plot(NEI_residential,'RSPM','orange','Location wise RSPM residential Area of Delhi')"
      ],
      "execution_count": null,
      "outputs": [
        {
          "output_type": "display_data",
          "data": {
            "image/png": "[encoded data removed]",
            "text/plain": [
              "<Figure size 720x360 with 1 Axes>"
            ]
          },
          "metadata": {
            "tags": [],
            "needs_background": "light"
          }
        },
        {
          "output_type": "execute_result",
          "data": {
            "text/html": [
              "<div>\n",
              "<style scoped>\n",
              "    .dataframe tbody tr th:only-of-type {\n",
              "        vertical-align: middle;\n",
              "    }\n",
              "\n",
              "    .dataframe tbody tr th {\n",
              "        vertical-align: top;\n",
              "    }\n",
              "\n",
              "    .dataframe thead th {\n",
              "        text-align: right;\n",
              "    }\n",
              "</style>\n",
              "<table border=\"1\" class=\"dataframe\">\n",
              "  <thead>\n",
              "    <tr style=\"text-align: right;\">\n",
              "      <th></th>\n",
              "      <th>Location</th>\n",
              "      <th>RSPM</th>\n",
              "    </tr>\n",
              "  </thead>\n",
              "  <tbody>\n",
              "    <tr>\n",
              "      <th>0</th>\n",
              "      <td>N.Y. SCHOOL, Sarojini Nagar, Delhi</td>\n",
              "      <td>14024.0</td>\n",
              "    </tr>\n",
              "    <tr>\n",
              "      <th>1</th>\n",
              "      <td>Town Hall, Ayurvedic Dispensary, Chandni Chowk...</td>\n",
              "      <td>18400.0</td>\n",
              "    </tr>\n",
              "  </tbody>\n",
              "</table>\n",
              "</div>"
            ],
            "text/plain": [
              "                                            Location     RSPM\n",
              "0                 N.Y. SCHOOL, Sarojini Nagar, Delhi  14024.0\n",
              "1  Town Hall, Ayurvedic Dispensary, Chandni Chowk...  18400.0"
            ]
          },
          "metadata": {
            "tags": []
          },
          "execution_count": 48
        }
      ]
    },
    {
      "cell_type": "markdown",
      "metadata": {
        "id": "0DhAqLBdK0O4"
      },
      "source": [
        "## Conclusion"
      ]
    },
    {
      "cell_type": "markdown",
      "metadata": {
        "id": "leSuN-ljIHj7"
      },
      "source": [
        "What can we do to reduce air pollution in delhi?\r\n",
        "\r\n",
        "1)First,we can reduce the use of vehicles.\r\n",
        "\r\n",
        "2)Government should enforce strict rules in highly polluted area such as pritampura,janakpuri.\r\n",
        "\r\n",
        "3)We can see that N.Y. School have high amount of SO2 concentration which can harm students.In that area we can grow more trees and other restrictions to reduce concentration."
      ]
    }
  ]
}
